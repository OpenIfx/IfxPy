{
 "cells": [
  {
   "cell_type": "markdown",
   "metadata": {},
   "source": [
    "# Informix Common Table Expression Demo\n",
    "\n",
    "<pre>\n",
    "A common table expression (CTE) is a named temporary result set that exists within the scope of a single statement and that can be referred to later within that statement, possibly multiple times.\n",
    "</pre>\n",
    "### Syntax\n",
    "\n",
    "<pre>\n",
    "|--WITH -------------------------------------------------------------------------> (1)\n",
    "\n",
    "     .-,-----------------------------------------------------------------------+  \n",
    "     V                                                                         |\n",
    "(1)----- cte_name ---+---------------------+--AS (Subset of SELECT statement)--+-> (2)    \n",
    "                      |    .-,--------.    |           \n",
    "                      |    V          |    |           \n",
    "                      '-(----column---+--)-'  \n",
    "                                                                \n",
    "(2)----- SELECT/UPDATE/INSERT/DELETE statement\n",
    "</pre>"
   ]
  },
  {
   "cell_type": "code",
   "execution_count": 1,
   "metadata": {},
   "outputs": [
    {
     "name": "stdout",
     "output_type": "stream",
     "text": [
      "\n",
      "Database dropped.\n",
      "\n",
      "\n",
      "Database created.\n",
      "\n",
      "\n",
      "\n",
      "Database closed.\n",
      "\n"
     ]
    }
   ],
   "source": [
    "# create a database\n",
    "cmd = \"\"\"\n",
    "dbaccess - - <<EOT!\n",
    "drop database if exists cte;\n",
    "create database cte with log;\n",
    "EOT!\n",
    "\"\"\"\n",
    "!{cmd}"
   ]
  },
  {
   "cell_type": "code",
   "execution_count": 2,
   "metadata": {},
   "outputs": [],
   "source": [
    "import numpy as np\n",
    "import pandas as pd"
   ]
  },
  {
   "cell_type": "code",
   "execution_count": 3,
   "metadata": {},
   "outputs": [],
   "source": [
    "from pandas import DataFrame"
   ]
  },
  {
   "cell_type": "code",
   "execution_count": 4,
   "metadata": {},
   "outputs": [],
   "source": [
    "# https://github.com/OpenInformix/IfxPy\n",
    "import IfxPy\n",
    "import IfxPyDbi as dbapi2"
   ]
  },
  {
   "cell_type": "code",
   "execution_count": 5,
   "metadata": {
    "scrolled": true
   },
   "outputs": [],
   "source": [
    "constr = \"SERVER=xx2;database=cte;HOST=127.0.0.1;SERVICE=19200;UID=informix;PWD=in4mix10\""
   ]
  },
  {
   "cell_type": "code",
   "execution_count": 6,
   "metadata": {},
   "outputs": [],
   "source": [
    "conn = dbapi2.connect(constr, \"\", \"\")"
   ]
  },
  {
   "cell_type": "code",
   "execution_count": 7,
   "metadata": {},
   "outputs": [],
   "source": [
    "cur = conn.cursor()"
   ]
  },
  {
   "cell_type": "code",
   "execution_count": 8,
   "metadata": {},
   "outputs": [],
   "source": [
    "pd.set_option('display.max_rows', None)\n",
    "pd.set_option('display.max_colwidth', None)\n",
    "pd.set_option('display.width', None)"
   ]
  },
  {
   "cell_type": "markdown",
   "metadata": {},
   "source": [
    "## 1 - Simple CTE"
   ]
  },
  {
   "cell_type": "code",
   "execution_count": 9,
   "metadata": {},
   "outputs": [],
   "source": [
    "# query without from\n",
    "s = \"SELECT 1,2,TODAY\"\n",
    "cur.execute(s)\n",
    "t = cur.fetchall()"
   ]
  },
  {
   "cell_type": "code",
   "execution_count": 10,
   "metadata": {},
   "outputs": [],
   "source": [
    "columns = ['expr1', 'expr2', 'expr3']\n",
    "df = pd.DataFrame(data=t, columns=columns)"
   ]
  },
  {
   "cell_type": "code",
   "execution_count": 11,
   "metadata": {},
   "outputs": [
    {
     "data": {
      "text/html": [
       "<div>\n",
       "<style scoped>\n",
       "    .dataframe tbody tr th:only-of-type {\n",
       "        vertical-align: middle;\n",
       "    }\n",
       "\n",
       "    .dataframe tbody tr th {\n",
       "        vertical-align: top;\n",
       "    }\n",
       "\n",
       "    .dataframe thead th {\n",
       "        text-align: right;\n",
       "    }\n",
       "</style>\n",
       "<table border=\"1\" class=\"dataframe\">\n",
       "  <thead>\n",
       "    <tr style=\"text-align: right;\">\n",
       "      <th></th>\n",
       "      <th>expr1</th>\n",
       "      <th>expr2</th>\n",
       "      <th>expr3</th>\n",
       "    </tr>\n",
       "  </thead>\n",
       "  <tbody>\n",
       "    <tr>\n",
       "      <th>0</th>\n",
       "      <td>1</td>\n",
       "      <td>2</td>\n",
       "      <td>2020-06-16</td>\n",
       "    </tr>\n",
       "  </tbody>\n",
       "</table>\n",
       "</div>"
      ],
      "text/plain": [
       "   expr1  expr2       expr3\n",
       "0      1      2  2020-06-16"
      ]
     },
     "execution_count": 11,
     "metadata": {},
     "output_type": "execute_result"
    }
   ],
   "source": [
    "df"
   ]
  },
  {
   "cell_type": "code",
   "execution_count": 12,
   "metadata": {},
   "outputs": [],
   "source": [
    "# A simple CTE query with multiple references\n",
    "s = \"\"\"\n",
    "WITH cte(a, b, c) as (SELECT 1,2,3)\n",
    "SELECT * from cte \n",
    "UNION ALL \n",
    "SELECT a+3, b+4, c+5 from cte\n",
    "UNION ALL \n",
    "SELECT a+13, b+14, c+15 from cte\n",
    "\"\"\"\n",
    "cur.execute(s)\n",
    "t = cur.fetchall()"
   ]
  },
  {
   "cell_type": "code",
   "execution_count": 13,
   "metadata": {},
   "outputs": [],
   "source": [
    "columns = ['expr1', 'expr2', 'expr3']\n",
    "df = pd.DataFrame(data=t, columns=columns)"
   ]
  },
  {
   "cell_type": "code",
   "execution_count": 14,
   "metadata": {},
   "outputs": [
    {
     "data": {
      "text/html": [
       "<div>\n",
       "<style scoped>\n",
       "    .dataframe tbody tr th:only-of-type {\n",
       "        vertical-align: middle;\n",
       "    }\n",
       "\n",
       "    .dataframe tbody tr th {\n",
       "        vertical-align: top;\n",
       "    }\n",
       "\n",
       "    .dataframe thead th {\n",
       "        text-align: right;\n",
       "    }\n",
       "</style>\n",
       "<table border=\"1\" class=\"dataframe\">\n",
       "  <thead>\n",
       "    <tr style=\"text-align: right;\">\n",
       "      <th></th>\n",
       "      <th>expr1</th>\n",
       "      <th>expr2</th>\n",
       "      <th>expr3</th>\n",
       "    </tr>\n",
       "  </thead>\n",
       "  <tbody>\n",
       "    <tr>\n",
       "      <th>0</th>\n",
       "      <td>1</td>\n",
       "      <td>2</td>\n",
       "      <td>3</td>\n",
       "    </tr>\n",
       "    <tr>\n",
       "      <th>1</th>\n",
       "      <td>4</td>\n",
       "      <td>6</td>\n",
       "      <td>8</td>\n",
       "    </tr>\n",
       "    <tr>\n",
       "      <th>2</th>\n",
       "      <td>14</td>\n",
       "      <td>16</td>\n",
       "      <td>18</td>\n",
       "    </tr>\n",
       "  </tbody>\n",
       "</table>\n",
       "</div>"
      ],
      "text/plain": [
       "  expr1 expr2 expr3\n",
       "0     1     2     3\n",
       "1     4     6     8\n",
       "2    14    16    18"
      ]
     },
     "execution_count": 14,
     "metadata": {},
     "output_type": "execute_result"
    }
   ],
   "source": [
    "df"
   ]
  },
  {
   "cell_type": "code",
   "execution_count": 15,
   "metadata": {},
   "outputs": [],
   "source": [
    "# A simple CTE query with multiple ctes\n",
    "s = \"\"\"\n",
    "WITH cte1 as (SELECT 1,2,3),\n",
    "     cte2 as (SELECT 4,5,6),\n",
    "     cte3 as (SELECT 14,15,16)\n",
    "SELECT * from cte1 \n",
    "UNION ALL \n",
    "SELECT * from cte2\n",
    "UNION ALL \n",
    "SELECT * from cte3\n",
    "\"\"\"\n",
    "cur.execute(s)\n",
    "t = cur.fetchall()"
   ]
  },
  {
   "cell_type": "code",
   "execution_count": 16,
   "metadata": {},
   "outputs": [],
   "source": [
    "columns = ['expr1', 'expr2', 'expr3']\n",
    "df = pd.DataFrame(data=t, columns=columns)"
   ]
  },
  {
   "cell_type": "code",
   "execution_count": 17,
   "metadata": {},
   "outputs": [
    {
     "data": {
      "text/html": [
       "<div>\n",
       "<style scoped>\n",
       "    .dataframe tbody tr th:only-of-type {\n",
       "        vertical-align: middle;\n",
       "    }\n",
       "\n",
       "    .dataframe tbody tr th {\n",
       "        vertical-align: top;\n",
       "    }\n",
       "\n",
       "    .dataframe thead th {\n",
       "        text-align: right;\n",
       "    }\n",
       "</style>\n",
       "<table border=\"1\" class=\"dataframe\">\n",
       "  <thead>\n",
       "    <tr style=\"text-align: right;\">\n",
       "      <th></th>\n",
       "      <th>expr1</th>\n",
       "      <th>expr2</th>\n",
       "      <th>expr3</th>\n",
       "    </tr>\n",
       "  </thead>\n",
       "  <tbody>\n",
       "    <tr>\n",
       "      <th>0</th>\n",
       "      <td>1</td>\n",
       "      <td>2</td>\n",
       "      <td>3</td>\n",
       "    </tr>\n",
       "    <tr>\n",
       "      <th>1</th>\n",
       "      <td>4</td>\n",
       "      <td>5</td>\n",
       "      <td>6</td>\n",
       "    </tr>\n",
       "    <tr>\n",
       "      <th>2</th>\n",
       "      <td>14</td>\n",
       "      <td>15</td>\n",
       "      <td>16</td>\n",
       "    </tr>\n",
       "  </tbody>\n",
       "</table>\n",
       "</div>"
      ],
      "text/plain": [
       "   expr1  expr2  expr3\n",
       "0      1      2      3\n",
       "1      4      5      6\n",
       "2     14     15     16"
      ]
     },
     "execution_count": 17,
     "metadata": {},
     "output_type": "execute_result"
    }
   ],
   "source": [
    "df"
   ]
  },
  {
   "cell_type": "markdown",
   "metadata": {},
   "source": [
    "## 2 - Fibonacci Sequence"
   ]
  },
  {
   "cell_type": "code",
   "execution_count": 18,
   "metadata": {},
   "outputs": [],
   "source": [
    "s = \"\"\"\n",
    "WITH fib(p, n) as\n",
    "(\n",
    "    select 0, 1 -- initial values\n",
    "    UNION ALL\n",
    "    select n, (p+n)\n",
    "        from fib -- recursive subquery\n",
    "        where n < 100\n",
    ")\n",
    "select p from fib;\n",
    "\"\"\"\n",
    "cur.execute(s)\n",
    "t = cur.fetchall()"
   ]
  },
  {
   "cell_type": "code",
   "execution_count": 19,
   "metadata": {},
   "outputs": [],
   "source": [
    "columns = ['p']\n",
    "df = pd.DataFrame(data=t, columns=columns)"
   ]
  },
  {
   "cell_type": "code",
   "execution_count": 20,
   "metadata": {},
   "outputs": [
    {
     "data": {
      "text/html": [
       "<div>\n",
       "<style scoped>\n",
       "    .dataframe tbody tr th:only-of-type {\n",
       "        vertical-align: middle;\n",
       "    }\n",
       "\n",
       "    .dataframe tbody tr th {\n",
       "        vertical-align: top;\n",
       "    }\n",
       "\n",
       "    .dataframe thead th {\n",
       "        text-align: right;\n",
       "    }\n",
       "</style>\n",
       "<table border=\"1\" class=\"dataframe\">\n",
       "  <thead>\n",
       "    <tr style=\"text-align: right;\">\n",
       "      <th></th>\n",
       "      <th>p</th>\n",
       "    </tr>\n",
       "  </thead>\n",
       "  <tbody>\n",
       "    <tr>\n",
       "      <th>0</th>\n",
       "      <td>0</td>\n",
       "    </tr>\n",
       "    <tr>\n",
       "      <th>1</th>\n",
       "      <td>1</td>\n",
       "    </tr>\n",
       "    <tr>\n",
       "      <th>2</th>\n",
       "      <td>1</td>\n",
       "    </tr>\n",
       "    <tr>\n",
       "      <th>3</th>\n",
       "      <td>2</td>\n",
       "    </tr>\n",
       "    <tr>\n",
       "      <th>4</th>\n",
       "      <td>3</td>\n",
       "    </tr>\n",
       "    <tr>\n",
       "      <th>5</th>\n",
       "      <td>5</td>\n",
       "    </tr>\n",
       "    <tr>\n",
       "      <th>6</th>\n",
       "      <td>8</td>\n",
       "    </tr>\n",
       "    <tr>\n",
       "      <th>7</th>\n",
       "      <td>13</td>\n",
       "    </tr>\n",
       "    <tr>\n",
       "      <th>8</th>\n",
       "      <td>21</td>\n",
       "    </tr>\n",
       "    <tr>\n",
       "      <th>9</th>\n",
       "      <td>34</td>\n",
       "    </tr>\n",
       "    <tr>\n",
       "      <th>10</th>\n",
       "      <td>55</td>\n",
       "    </tr>\n",
       "    <tr>\n",
       "      <th>11</th>\n",
       "      <td>89</td>\n",
       "    </tr>\n",
       "  </tbody>\n",
       "</table>\n",
       "</div>"
      ],
      "text/plain": [
       "     p\n",
       "0    0\n",
       "1    1\n",
       "2    1\n",
       "3    2\n",
       "4    3\n",
       "5    5\n",
       "6    8\n",
       "7   13\n",
       "8   21\n",
       "9   34\n",
       "10  55\n",
       "11  89"
      ]
     },
     "execution_count": 20,
     "metadata": {},
     "output_type": "execute_result"
    }
   ],
   "source": [
    "df"
   ]
  },
  {
   "cell_type": "markdown",
   "metadata": {},
   "source": [
    "## 3 - Recursive CTE Use Case 1: Tree/Hierarchic Dataset "
   ]
  },
  {
   "cell_type": "code",
   "execution_count": 21,
   "metadata": {},
   "outputs": [
    {
     "data": {
      "image/png": "[encoded data removed]",
      "text/plain": [
       "<IPython.core.display.Image object>"
      ]
     },
     "metadata": {},
     "output_type": "display_data"
    }
   ],
   "source": [
    "from IPython.display import display, Image\n",
    "display(Image(filename='employee.png'))"
   ]
  },
  {
   "cell_type": "code",
   "execution_count": 22,
   "metadata": {},
   "outputs": [
    {
     "data": {
      "text/plain": [
       "True"
      ]
     },
     "execution_count": 22,
     "metadata": {},
     "output_type": "execute_result"
    }
   ],
   "source": [
    "cur.execute(\"drop table if exists employee;\")\n",
    "\n",
    "cur.execute(\"\"\"CREATE TABLE employee(\n",
    "                      empid  INTEGER NOT NULL PRIMARY KEY,\n",
    "                      name   CHAR(10),\n",
    "                      mgrid  INTEGER\n",
    ");\"\"\")\n",
    "\n",
    "cur.execute(\"INSERT INTO employee VALUES  ( 1, 'Jones',     10);\")\n",
    "cur.execute(\"INSERT INTO employee VALUES  ( 2, 'Hall',      10);\")\n",
    "cur.execute(\"INSERT INTO employee VALUES  ( 3, 'Kim',       10);\")\n",
    "cur.execute(\"INSERT INTO employee VALUES  ( 4, 'Lindsay',   10);\")\n",
    "cur.execute(\"INSERT INTO employee VALUES  ( 5, 'McKeough',  11);\")\n",
    "cur.execute(\"INSERT INTO employee VALUES  ( 6, 'Barnes',    11);\")\n",
    "cur.execute(\"INSERT INTO employee VALUES  ( 7, 'ONeil',     12);\")\n",
    "cur.execute(\"INSERT INTO employee VALUES  ( 8, 'Smith',     12);\")\n",
    "cur.execute(\"INSERT INTO employee VALUES  ( 9, 'Shoeman',   12);\")\n",
    "cur.execute(\"INSERT INTO employee VALUES  (10, 'Monroe',    15);\")\n",
    "cur.execute(\"INSERT INTO employee VALUES  (11, 'Zander',    16);\")\n",
    "cur.execute(\"INSERT INTO employee VALUES  (12, 'Henry',     16);\")\n",
    "cur.execute(\"INSERT INTO employee VALUES  (13, 'Aaron',     15);\")\n",
    "cur.execute(\"INSERT INTO employee VALUES  (14, 'Scott',     16);\")\n",
    "cur.execute(\"INSERT INTO employee VALUES  (15, 'Mills',     17);\")\n",
    "cur.execute(\"INSERT INTO employee VALUES  (16, 'Goyal',     17);\")\n",
    "cur.execute(\"INSERT INTO employee VALUES  (17, 'Urbassek',  NULL);\")\n"
   ]
  },
  {
   "cell_type": "code",
   "execution_count": 23,
   "metadata": {},
   "outputs": [],
   "source": [
    "# Query employees reporting to Goyal\n",
    "s = \"\"\"\n",
    "WITH cte AS (\n",
    "  SELECT empid, name, mgrid, 1 AS level\n",
    "    FROM employee\n",
    "    WHERE name = 'Mills'\n",
    "  UNION ALL\n",
    "  SELECT t.empid, t.name, t.mgrid, (cte.level + 1)\n",
    "    FROM employee t, cte\n",
    "  where cte.empid = t.mgrid\n",
    "  )\n",
    "SELECT * from cte ;\n",
    "\"\"\"\n",
    "cur.execute(s)\n",
    "t = cur.fetchall()"
   ]
  },
  {
   "cell_type": "code",
   "execution_count": 24,
   "metadata": {},
   "outputs": [],
   "source": [
    "columns = ['empid', 'name', 'mgrid', 'level']\n",
    "df = pd.DataFrame(data=t, columns=columns)"
   ]
  },
  {
   "cell_type": "code",
   "execution_count": 25,
   "metadata": {
    "scrolled": false
   },
   "outputs": [
    {
     "data": {
      "text/html": [
       "<div>\n",
       "<style scoped>\n",
       "    .dataframe tbody tr th:only-of-type {\n",
       "        vertical-align: middle;\n",
       "    }\n",
       "\n",
       "    .dataframe tbody tr th {\n",
       "        vertical-align: top;\n",
       "    }\n",
       "\n",
       "    .dataframe thead th {\n",
       "        text-align: right;\n",
       "    }\n",
       "</style>\n",
       "<table border=\"1\" class=\"dataframe\">\n",
       "  <thead>\n",
       "    <tr style=\"text-align: right;\">\n",
       "      <th></th>\n",
       "      <th>empid</th>\n",
       "      <th>name</th>\n",
       "      <th>mgrid</th>\n",
       "      <th>level</th>\n",
       "    </tr>\n",
       "  </thead>\n",
       "  <tbody>\n",
       "    <tr>\n",
       "      <th>0</th>\n",
       "      <td>15</td>\n",
       "      <td>Mills</td>\n",
       "      <td>17</td>\n",
       "      <td>1</td>\n",
       "    </tr>\n",
       "    <tr>\n",
       "      <th>1</th>\n",
       "      <td>13</td>\n",
       "      <td>Aaron</td>\n",
       "      <td>15</td>\n",
       "      <td>2</td>\n",
       "    </tr>\n",
       "    <tr>\n",
       "      <th>2</th>\n",
       "      <td>10</td>\n",
       "      <td>Monroe</td>\n",
       "      <td>15</td>\n",
       "      <td>2</td>\n",
       "    </tr>\n",
       "    <tr>\n",
       "      <th>3</th>\n",
       "      <td>4</td>\n",
       "      <td>Lindsay</td>\n",
       "      <td>10</td>\n",
       "      <td>3</td>\n",
       "    </tr>\n",
       "    <tr>\n",
       "      <th>4</th>\n",
       "      <td>3</td>\n",
       "      <td>Kim</td>\n",
       "      <td>10</td>\n",
       "      <td>3</td>\n",
       "    </tr>\n",
       "    <tr>\n",
       "      <th>5</th>\n",
       "      <td>2</td>\n",
       "      <td>Hall</td>\n",
       "      <td>10</td>\n",
       "      <td>3</td>\n",
       "    </tr>\n",
       "    <tr>\n",
       "      <th>6</th>\n",
       "      <td>1</td>\n",
       "      <td>Jones</td>\n",
       "      <td>10</td>\n",
       "      <td>3</td>\n",
       "    </tr>\n",
       "  </tbody>\n",
       "</table>\n",
       "</div>"
      ],
      "text/plain": [
       "   empid        name  mgrid level\n",
       "0     15  Mills          17     1\n",
       "1     13  Aaron          15     2\n",
       "2     10  Monroe         15     2\n",
       "3      4  Lindsay        10     3\n",
       "4      3  Kim            10     3\n",
       "5      2  Hall           10     3\n",
       "6      1  Jones          10     3"
      ]
     },
     "execution_count": 25,
     "metadata": {},
     "output_type": "execute_result"
    }
   ],
   "source": [
    "df"
   ]
  },
  {
   "cell_type": "markdown",
   "metadata": {},
   "source": [
    "## 4 - Recursive CTE Use Case 2: Graph Dataset\n",
    "<pre>\n",
    "we have a graph dataset with 6 cities A, B, C, D, E, and F, also we have cost for each road between cities.\n",
    "</pre>"
   ]
  },
  {
   "cell_type": "code",
   "execution_count": 26,
   "metadata": {},
   "outputs": [
    {
     "data": {
      "image/png": "[encoded data removed]",
      "text/plain": [
       "<IPython.core.display.Image object>"
      ]
     },
     "metadata": {},
     "output_type": "display_data"
    }
   ],
   "source": [
    "from IPython.display import display, Image\n",
    "display(Image(filename='location.png'))"
   ]
  },
  {
   "cell_type": "code",
   "execution_count": 27,
   "metadata": {},
   "outputs": [
    {
     "data": {
      "text/plain": [
       "True"
      ]
     },
     "execution_count": 27,
     "metadata": {},
     "output_type": "execute_result"
    }
   ],
   "source": [
    "cur.execute(\"drop table if exists loc;\")\n",
    "cur.execute(\"create table loc (id int, name char(10));\")\n",
    "cur.execute(\"insert into loc values (1, 'A');\")\n",
    "cur.execute(\"insert into loc values (2, 'B');\")\n",
    "cur.execute(\"insert into loc values (3, 'C');\")\n",
    "cur.execute(\"insert into loc values (4, 'D');\")\n",
    "cur.execute(\"insert into loc values (5, 'E');\")\n",
    "cur.execute(\"insert into loc values (6, 'F');\")\n",
    "cur.execute(\"create index loc_idx1 on loc(id);\")\n",
    "cur.execute(\"create index loc_idx2 on loc(name);\")\n",
    "\n",
    "cur.execute(\"drop table if exists road;\")\n",
    "cur.execute(\"create table road(start int, end int, cost int);\")\n",
    "cur.execute(\"insert into road values (1, 2, 50);\")\n",
    "cur.execute(\"insert into road values (1, 3, 50);\")\n",
    "cur.execute(\"insert into road values (1, 4, 100);\")\n",
    "cur.execute(\"insert into road values (2, 4, 40);\")\n",
    "cur.execute(\"insert into road values (3, 4, 40);\")\n",
    "cur.execute(\"insert into road values (3, 5, 80);\")\n",
    "cur.execute(\"insert into road values (4, 5, 30);\")\n",
    "cur.execute(\"insert into road values (4, 6, 80);\")\n",
    "cur.execute(\"insert into road values (5, 6, 40);\")\n",
    "cur.execute(\"create index road_idx1 on road(start, end);\")"
   ]
  },
  {
   "cell_type": "code",
   "execution_count": 28,
   "metadata": {},
   "outputs": [],
   "source": [
    "# list all path from A to F order by total cost\n",
    "s = \"\"\"\n",
    "with cte(id, path, cost, name, level) as (\n",
    "    SELECT f.id, (trim(a.name) || \" -> \" || f.name)::lvarchar, \n",
    "        r.cost, f.name, 1\n",
    "        FROM loc a, road r, loc f\n",
    "        WHERE a.name = 'A' AND r.start = a.id AND r.end = f.id\n",
    "    UNION ALL\n",
    "    SELECT f.id, trim(a.path) || \" -> \" || trim(f.name), \n",
    "        a.cost + r.cost,\n",
    "        f.name, level + 1\n",
    "        FROM cte a, road r, loc f\n",
    "        WHERE r.start = a.id AND r.end = f.id\n",
    ")\n",
    "select path, cost, level from cte   \n",
    "where name = 'F'\n",
    "order by cost;\n",
    "\"\"\"\n",
    "cur.execute(s)\n",
    "t = cur.fetchall()"
   ]
  },
  {
   "cell_type": "code",
   "execution_count": 29,
   "metadata": {},
   "outputs": [],
   "source": [
    "columns = ['PATH', 'COST', 'connections']\n",
    "df = pd.DataFrame(data=t, columns=columns)"
   ]
  },
  {
   "cell_type": "code",
   "execution_count": 30,
   "metadata": {},
   "outputs": [
    {
     "data": {
      "text/html": [
       "<div>\n",
       "<style scoped>\n",
       "    .dataframe tbody tr th:only-of-type {\n",
       "        vertical-align: middle;\n",
       "    }\n",
       "\n",
       "    .dataframe tbody tr th {\n",
       "        vertical-align: top;\n",
       "    }\n",
       "\n",
       "    .dataframe thead th {\n",
       "        text-align: right;\n",
       "    }\n",
       "</style>\n",
       "<table border=\"1\" class=\"dataframe\">\n",
       "  <thead>\n",
       "    <tr style=\"text-align: right;\">\n",
       "      <th></th>\n",
       "      <th>PATH</th>\n",
       "      <th>COST</th>\n",
       "      <th>connections</th>\n",
       "    </tr>\n",
       "  </thead>\n",
       "  <tbody>\n",
       "    <tr>\n",
       "      <th>0</th>\n",
       "      <td>A -&gt; B -&gt; D -&gt; E -&gt; F</td>\n",
       "      <td>160</td>\n",
       "      <td>4</td>\n",
       "    </tr>\n",
       "    <tr>\n",
       "      <th>1</th>\n",
       "      <td>A -&gt; C -&gt; D -&gt; E -&gt; F</td>\n",
       "      <td>160</td>\n",
       "      <td>4</td>\n",
       "    </tr>\n",
       "    <tr>\n",
       "      <th>2</th>\n",
       "      <td>A -&gt; D -&gt; E -&gt; F</td>\n",
       "      <td>170</td>\n",
       "      <td>3</td>\n",
       "    </tr>\n",
       "    <tr>\n",
       "      <th>3</th>\n",
       "      <td>A -&gt; C -&gt; D -&gt; F</td>\n",
       "      <td>170</td>\n",
       "      <td>3</td>\n",
       "    </tr>\n",
       "    <tr>\n",
       "      <th>4</th>\n",
       "      <td>A -&gt; B -&gt; D -&gt; F</td>\n",
       "      <td>170</td>\n",
       "      <td>3</td>\n",
       "    </tr>\n",
       "    <tr>\n",
       "      <th>5</th>\n",
       "      <td>A -&gt; C -&gt; E -&gt; F</td>\n",
       "      <td>170</td>\n",
       "      <td>3</td>\n",
       "    </tr>\n",
       "    <tr>\n",
       "      <th>6</th>\n",
       "      <td>A -&gt; D -&gt; F</td>\n",
       "      <td>180</td>\n",
       "      <td>2</td>\n",
       "    </tr>\n",
       "  </tbody>\n",
       "</table>\n",
       "</div>"
      ],
      "text/plain": [
       "                    PATH COST connections\n",
       "0  A -> B -> D -> E -> F  160           4\n",
       "1  A -> C -> D -> E -> F  160           4\n",
       "2       A -> D -> E -> F  170           3\n",
       "3       A -> C -> D -> F  170           3\n",
       "4       A -> B -> D -> F  170           3\n",
       "5       A -> C -> E -> F  170           3\n",
       "6            A -> D -> F  180           2"
      ]
     },
     "execution_count": 30,
     "metadata": {},
     "output_type": "execute_result"
    }
   ],
   "source": [
    "df"
   ]
  },
  {
   "cell_type": "code",
   "execution_count": 31,
   "metadata": {
    "scrolled": false
   },
   "outputs": [
    {
     "data": {
      "image/png": "[encoded data removed]",
      "text/plain": [
       "<IPython.core.display.Image object>"
      ]
     },
     "metadata": {},
     "output_type": "display_data"
    }
   ],
   "source": [
    "from IPython.display import display, Image\n",
    "display(Image(filename='location_lowcost.png'))"
   ]
  },
  {
   "cell_type": "markdown",
   "metadata": {},
   "source": [
    "## 5 - CTE Fun Queries"
   ]
  },
  {
   "cell_type": "markdown",
   "metadata": {},
   "source": [
    "### 5.0 - Group Aggregation Helper Function"
   ]
  },
  {
   "cell_type": "code",
   "execution_count": 32,
   "metadata": {},
   "outputs": [
    {
     "data": {
      "text/plain": [
       "True"
      ]
     },
     "execution_count": 32,
     "metadata": {},
     "output_type": "execute_result"
    }
   ],
   "source": [
    "# helper function for group aggregation\n",
    "cur.execute(\"drop function if exists plus(lvarchar, lvarchar);\")\n",
    "cur.execute(\"\"\"\n",
    "create function plus(s1 lvarchar, s2 lvarchar)\n",
    "    returning lvarchar;\n",
    "    return s1 || s2;\n",
    "end function;\n",
    "\"\"\")"
   ]
  },
  {
   "cell_type": "markdown",
   "metadata": {},
   "source": [
    "### 5.1 - Mandelbrot Set\n",
    "<pre>\n",
    "We will draw Mandelbrot in simple Python code, and then do it with SQL query.\n",
    "</pre>"
   ]
  },
  {
   "cell_type": "code",
   "execution_count": 33,
   "metadata": {},
   "outputs": [],
   "source": [
    "# Mandelbrot in Python\n",
    "from PIL import Image, ImageDraw\n",
    "im = Image.new('RGB', (280, 120), (0, 0, 0))\n",
    "draw = ImageDraw.Draw(im)"
   ]
  },
  {
   "cell_type": "code",
   "execution_count": 34,
   "metadata": {},
   "outputs": [],
   "source": [
    "# https://en.wikipedia.org/wiki/Mandelbrot_set\n",
    "for x in range(-70 * 2, 70 * 2):\n",
    "    for y in range(-30 * 2, 30 * 2):\n",
    "        n = 0\n",
    "        x0 = 0.015 * x\n",
    "        y0 = 0.02 * y\n",
    "        rx = 0\n",
    "        ix = 0\n",
    "        while rx*rx + ix*ix <= 2 and n < 100:\n",
    "            tx = rx *rx - ix* ix + x0\n",
    "            ix = 2 * rx * ix + y0\n",
    "            rx = tx\n",
    "            n = n + 1\n",
    "        color = 255 - int(n * 255 / 99)\n",
    "        # Plot the point\n",
    "        draw.point([x + 140, y + 60], (color, color, color))\n",
    "\n",
    "im.save('mandelbrot.png', 'PNG')"
   ]
  },
  {
   "cell_type": "code",
   "execution_count": 35,
   "metadata": {},
   "outputs": [
    {
     "data": {
      "image/png": "[encoded data removed]",
      "text/plain": [
       "<IPython.core.display.Image object>"
      ]
     },
     "metadata": {},
     "output_type": "display_data"
    }
   ],
   "source": [
    "from IPython.display import display, Image\n",
    "display(Image(filename='mandelbrot.png'))"
   ]
  },
  {
   "cell_type": "code",
   "execution_count": 36,
   "metadata": {},
   "outputs": [],
   "source": [
    "# Mandelbrot in informix SQL\n",
    "# port from PostgreSQL https://explainextended.com/2013/12/31/happy-new-year-5/\n",
    "s = \"\"\"\n",
    "WITH    \n",
    "x(n) AS ( select -70 UNION ALL select n+1 from x where n < 40),\n",
    "y(j) AS ( select -30 UNION ALL select j+1 from y where j < 30),\n",
    "q (r, i, rx, ix, g) AS (\n",
    "    SELECT  n::float * 0.02, j::float * 0.04, 0::float, 0::float, 0\n",
    "        FROM (select n from x) cross join (select j from y)\n",
    "    UNION ALL\n",
    "    SELECT  r, i, \n",
    "        CASE WHEN ABS(rx * rx + ix * ix) <= 2 THEN rx * rx - ix * ix END + r, \n",
    "        CASE WHEN ABS(rx * rx + ix * ix) <= 2 THEN 2 * rx * ix END + i, \n",
    "        g + 1\n",
    "        FROM q WHERE rx IS NOT NULL AND g < 100),\n",
    "Zt (i, r, x) AS (\n",
    "    SELECT i, r, SUBSTR('@@B%8&WM#*oaqwmO0Ucrt/\\|()1{}[]?-_+~<>i!l;;:,```.', \n",
    "        50 - (MAX(g)/2)::int, 1) as x\n",
    "        FROM q GROUP BY i, r order by r desc)\n",
    "SELECT  sum(x::lvarchar) as x from Zt group by i order by i;\n",
    "\"\"\"\n",
    "cur.execute(s)\n",
    "t = cur.fetchall()"
   ]
  },
  {
   "cell_type": "code",
   "execution_count": 37,
   "metadata": {},
   "outputs": [],
   "source": [
    "columns = ['x']\n",
    "df = pd.DataFrame(data=t, columns=columns)"
   ]
  },
  {
   "cell_type": "code",
   "execution_count": 38,
   "metadata": {},
   "outputs": [
    {
     "name": "stdout",
     "output_type": "stream",
     "text": [
      "                                                                                                                  x\n",
      "0   ...............................................................................................................\n",
      "1   ...............................................................................................................\n",
      "2   ...............................................................................................................\n",
      "3   ...............................................................................................................\n",
      "4   ............................``````````````````````````````````l................................................\n",
      "5   ....................``````````````````````````````````````````,;,,,`,l@........................................\n",
      "6   ...................````````````````````````````````````````````,:l;,````````...................................\n",
      "7   .................``````````````````````````````````````````````:l!:,````````````...............................\n",
      "8   ...............```````````````````````````````````````````;,,:;{@o/i````````````````...........................\n",
      "9   ..............``````````````````````````````````````````i;?;;\\@r@U>!;:i:```````````````........................\n",
      "10  ............`````````````````````````````````````````````:;@@@@@@@@@|*l,``````````````````.....................\n",
      "11  ...........``````````````````````````````````````````````i-U@@@@@@@@@>_~````````````````````...................\n",
      "12  ..........`````````````````````````````````````````````,,:r@@@@@@@@@@<;,``````````````````````.................\n",
      "13  ........`````````````````````````````````,,:;,````::i,,,:;;l{@@@@@@@];;::,,,,!``````````;;``````...............\n",
      "14  .......````````````````````````````````,:l{l;;1,,:i~t#l@~@@@@@@@@@@@@@\\0a{;)>t],``````,;?`````````.............\n",
      "15  ......`````````````````````````````````,:;U@@@@{;@>@@@@@@@@@@@@@@@@@@@@@@@@@@);{,,:;<;;;<<;`````````...........\n",
      "16  ......``````````````````````````````````,_@@@@@?@@@@@@@@@@@@@@@@@@@@@@@@@@@@@@@@@;[@@@@}l,>``````````..........\n",
      "17  .....``````````````````````````````````,,:;!+U@@@@@@@@@@@@@@@@@@@@@@@@@@@@@@@@@@@@@@@@@i~`````````````.........\n",
      "18  ....````````````````````````````````:;;;;@@@@@@@@@@@@@@@@@@@@@@@@@@@@@@@@@@@@@@@@@@@+!;,,```````````````.......\n",
      "19  ...````````````````````````````````;[}@@@@@@@@@@@@@@@@@@@@@@@@@@@@@@@@@@@@@@@@@@@@@@@@];:````````````````......\n",
      "20  ...````````````````````````````````,:;)\\@@@@@@@@@@@@@@@@@@@@@@@@@@@@@@@@@@@@@@@@@@@@@@@@:,``,,````````````.....\n",
      "21  ..````````````````````````````````lr*>@@@@@@@@@@@@@@@@@@@@@@@@@@@@@@@@@@@@@@@@@@@@@@@@@@>@_;<,````````````.....\n",
      "22  ..````````;:;:,,,:;l;,,,````````,,:l_@@@@@@@@@@@@@@@@@@@@@@@@@@@@@@@@@@@@@@@@@@@@@@@@@@@M@{;i``````````````....\n",
      "23  .```````,,:;[<_;l;l[@/;l};:,,,,,,;@@@@@@@@@@@@@@@@@@@@@@@@@@@@@@@@@@@@@@@@@@@@@@@@@@@@@@@!:,````````````````...\n",
      "24  .```````,,!<@@@+@@@@@@@@@+i[;::::~@@@@@@@@@@@@@@@@@@@@@@@@@@@@@@@@@@@@@@@@@@@@@@@@@@@@@@@@>:l```````````````...\n",
      "25  .```````::;!@@@@@@@@@@@@@@@@@];;;!@@@@@@@@@@@@@@@@@@@@@@@@@@@@@@@@@@@@@@@@@@@@@@@@@@@@@@@~_?,````````````````..\n",
      "26  ```````;_@&@@@@@@@@@@@@@@@@@@@]ll-@@@@@@@@@@@@@@@@@@@@@@@@@@@@@@@@@@@@@@@@@@@@@@@@@@@@@@@@:``````````````````..\n",
      "27  ```,,,::q@@@@@@@@@@@@@@@@@@@@@@@>@@@@@@@@@@@@@@@@@@@@@@@@@@@@@@@@@@@@@@@@@@@@@@@@@@@@@@@@;,```````````````````.\n",
      "28  ``ll~!l!U@@@@@@@@@@@@@@@@@@@@@@@8@@@@@@@@@@@@@@@@@@@@@@@@@@@@@@@@@@@@@@@@@@@@@@@@@@@@@@@;`````````````````````.\n",
      "29  ,;)@@@@B@@@@@@@@@@@@@@@@@@@@@@@@@@@@@@@@@@@@@@@@@@@@@@@@@@@@@@@@@@@@@@@@@@@@@@@@@@@@@@@,``````````````````````.\n",
      "30  @@@@@@@@@@@@@@@@@@@@@@@@@@@@@@@@@@@@@@@@@@@@@@@@@@@@@@@@@@@@@@@@@@@@@@@@@@@@@@@@@@@+;:,```````````````````````.\n",
      "31  ,;)@@@@B@@@@@@@@@@@@@@@@@@@@@@@@@@@@@@@@@@@@@@@@@@@@@@@@@@@@@@@@@@@@@@@@@@@@@@@@@@@@@@@,``````````````````````.\n",
      "32  ``ll~!l!U@@@@@@@@@@@@@@@@@@@@@@@8@@@@@@@@@@@@@@@@@@@@@@@@@@@@@@@@@@@@@@@@@@@@@@@@@@@@@@@;`````````````````````.\n",
      "33  ```,,,::q@@@@@@@@@@@@@@@@@@@@@@@>@@@@@@@@@@@@@@@@@@@@@@@@@@@@@@@@@@@@@@@@@@@@@@@@@@@@@@@@;,```````````````````.\n",
      "34  ```````;_@&@@@@@@@@@@@@@@@@@@@]ll-@@@@@@@@@@@@@@@@@@@@@@@@@@@@@@@@@@@@@@@@@@@@@@@@@@@@@@@@:``````````````````..\n",
      "35  .```````::;!@@@@@@@@@@@@@@@@@];;;!@@@@@@@@@@@@@@@@@@@@@@@@@@@@@@@@@@@@@@@@@@@@@@@@@@@@@@@~_?,````````````````..\n",
      "36  .```````,,!<@@@+@@@@@@@@@+i[;::::~@@@@@@@@@@@@@@@@@@@@@@@@@@@@@@@@@@@@@@@@@@@@@@@@@@@@@@@@>:l```````````````...\n",
      "37  .```````,,:;[<_;l;l[@/;l};:,,,,,,;@@@@@@@@@@@@@@@@@@@@@@@@@@@@@@@@@@@@@@@@@@@@@@@@@@@@@@@!:,````````````````...\n",
      "38  ..````````;:;:,,,:;l;,,,````````,,:l_@@@@@@@@@@@@@@@@@@@@@@@@@@@@@@@@@@@@@@@@@@@@@@@@@@@M@{;i``````````````....\n",
      "39  ..````````````````````````````````lr*>@@@@@@@@@@@@@@@@@@@@@@@@@@@@@@@@@@@@@@@@@@@@@@@@@@>@_;<,````````````.....\n",
      "40  ...````````````````````````````````,:;)\\@@@@@@@@@@@@@@@@@@@@@@@@@@@@@@@@@@@@@@@@@@@@@@@@:,``,,````````````.....\n",
      "41  ...````````````````````````````````;[}@@@@@@@@@@@@@@@@@@@@@@@@@@@@@@@@@@@@@@@@@@@@@@@@];:````````````````......\n",
      "42  ....````````````````````````````````:;;;;@@@@@@@@@@@@@@@@@@@@@@@@@@@@@@@@@@@@@@@@@@@+!;,,```````````````.......\n",
      "43  .....``````````````````````````````````,,:;!+U@@@@@@@@@@@@@@@@@@@@@@@@@@@@@@@@@@@@@@@@@i~`````````````.........\n",
      "44  ......``````````````````````````````````,_@@@@@?@@@@@@@@@@@@@@@@@@@@@@@@@@@@@@@@@;[@@@@}l,>``````````..........\n",
      "45  ......`````````````````````````````````,:;U@@@@{;@>@@@@@@@@@@@@@@@@@@@@@@@@@@);{,,:;<;;;<<;`````````...........\n",
      "46  .......````````````````````````````````,:l{l;;1,,:i~t#l@~@@@@@@@@@@@@@\\0a{;)>t],``````,;?`````````.............\n",
      "47  ........`````````````````````````````````,,:;,````::i,,,:;;l{@@@@@@@];;::,,,,!``````````;;``````...............\n",
      "48  ..........`````````````````````````````````````````````,,:r@@@@@@@@@@<;,``````````````````````.................\n",
      "49  ...........``````````````````````````````````````````````i-U@@@@@@@@@>_~````````````````````...................\n",
      "50  ............`````````````````````````````````````````````:;@@@@@@@@@|*l,``````````````````.....................\n",
      "51  ..............``````````````````````````````````````````i;?;;\\@r@U>!;:i:```````````````........................\n",
      "52  ...............```````````````````````````````````````````;,,:;{@o/i````````````````...........................\n",
      "53  .................``````````````````````````````````````````````:l!:,````````````...............................\n",
      "54  ...................````````````````````````````````````````````,:l;,````````...................................\n",
      "55  ....................``````````````````````````````````````````,;,,,`,l@........................................\n",
      "56  ............................``````````````````````````````````l................................................\n",
      "57  ...............................................................................................................\n",
      "58  ...............................................................................................................\n",
      "59  ...............................................................................................................\n",
      "60  ...............................................................................................................\n"
     ]
    }
   ],
   "source": [
    "print(df)"
   ]
  },
  {
   "cell_type": "markdown",
   "metadata": {},
   "source": [
    "### 5.2 - Julia Set"
   ]
  },
  {
   "cell_type": "code",
   "execution_count": 39,
   "metadata": {},
   "outputs": [],
   "source": [
    "# Query to generate a Julia Set (a beautiful tree like image)\n",
    "# port from PostgreSQL https://explainextended.com/2013/12/31/happy-new-year-5/\n",
    "# https://en.wikipedia.org/wiki/Julia_set\n",
    "s = \"\"\"\n",
    "WITH    \n",
    "x(n) AS (\n",
    "    select -40\n",
    "    UNION ALL\n",
    "    select n+1 from x where n < 40),\n",
    "q (r, i, rx, ix, g) AS (\n",
    "    SELECT  x + r::float * step, y + i::float * step,\n",
    "            x + r::float * step, y + i::float * step,\n",
    "            0\n",
    "    FROM    (\n",
    "        SELECT  0.25 x, -0.55 y, 0.002 step, r, i\n",
    "            FROM (select n as r from x) \n",
    "        cross join \n",
    "        (select n as i from x))\n",
    "        UNION ALL\n",
    "        SELECT  r, i,\n",
    "                CASE WHEN (rx * rx + ix * ix) < 1E8 THEN \n",
    "                pow((rx * rx + ix * ix), 0.75) * COS(1.5 * ATAN2(ix, rx)) END - 0.2,\n",
    "                CASE WHEN (rx * rx + ix * ix) < 1E8 THEN \n",
    "                pow((rx * rx + ix * ix), 0.75) * SIN(1.5 * ATAN2(ix, rx)) END,\n",
    "                g + 1\n",
    "        FROM    q\n",
    "        WHERE   rx IS NOT NULL\n",
    "                AND g < 99\n",
    "        ),\n",
    "Zt (i, r, x) AS (\n",
    "    SELECT i, r, SUBSTR(\" .:-=+*#%@\", (MAX(g) /10 +1)::int, 1) as x\n",
    "    FROM q\n",
    "    GROUP BY i, r\n",
    "    order by r)\n",
    "SELECT  \n",
    "    sum(x::lvarchar) as x\n",
    "    from Zt \n",
    "    group by i\n",
    "    order by i;\n",
    "\"\"\"\n",
    "cur.execute(s)\n",
    "t = cur.fetchall()"
   ]
  },
  {
   "cell_type": "code",
   "execution_count": 40,
   "metadata": {},
   "outputs": [],
   "source": [
    "columns = ['']\n",
    "df = pd.DataFrame(data=t, columns=columns)"
   ]
  },
  {
   "cell_type": "code",
   "execution_count": 41,
   "metadata": {
    "scrolled": false
   },
   "outputs": [
    {
     "name": "stdout",
     "output_type": "stream",
     "text": [
      "                                                                                     \n",
      "0   :::::::::::::::::::::::::::::::::::::::::::::::::::::::::::::::::::::::::::::::::\n",
      "1   :::::::::::::::::::::::::::::::::::::::::::::::::::::::::::::::::::::::::::::::::\n",
      "2   :::::::::::::::::::::::::::::::::::::::::::::::::::::::::::::::::::::::::::::::::\n",
      "3   :::::::::::::::::::::::::::::::::::::::::::::::::::::::::::::::::::::::::::::::::\n",
      "4   :::::::::::::::::::::::::::::::::::::::::::::::::::::::::::::::::::::::::::::::::\n",
      "5   :::::::::::::::::::::::::::::::::::::::::::::::::::::::::::::::::::::::::::::::::\n",
      "6   ::::::::::::::::::::::::::::::::::------------------------:::::::::::::::::::::::\n",
      "7   :::::::::::::::::::::::::::-------------------------------------:::::::::::::::::\n",
      "8   ::::::::::::::::::::::----------------------------------------------:::::::::::::\n",
      "9   ::::::::::::::::::-----------------------------------------------------::::::::::\n",
      "10  :::::::::::::::-----------------=======+*@@@@@@@@@@@@*+=====---------------::::::\n",
      "11  ::::::::::::-------------====+@@@@@@@@@@@@%%@%@@@%%@@%@%@@@@@===--------------:::\n",
      "12  ::::::::::----------===+@@@@@@@@@%%@@%@@%%%%%@@@%%%%@@@@@@%@@@@@@+==-------------\n",
      "13  :::::::----------==+@@@@@%@@%@@@@%@@@@%%@@@@@%%@%@@@%@%%%@%%@@%@@@@@@===---------\n",
      "14  :::::----------=+@@%@@@@%%@%%%%@%@@@%@%%@%@%@%%@%@%@%@%%@%%%@%%@@@@@@%@@+==------\n",
      "15  :::---------==@@@@%@%%@@@@@%%@%@%@%@%#%%%@%%%%%%%%@%@%%%%@%@%%@@%@@@@@%@@@@+==---\n",
      "16  :---------=+@@@%@%%@@%@%@#@#%%%%@%@#@@#@%@#@#@@#%%@#@#@@%@#%@%@@%@@%@%%%%%@@@@==-\n",
      "17  -------==@@@@%%%@%@%@@@@#%%%@#@%@%@%@@#@@@%@#@@#%@@%@#@@%%%#@%#@%@%@%%@@%@%@@%%@@\n",
      "18  -----==@@@%@%@%@%@@@%@#@@%@@@%@%@@%%@@##%@%##@@##@@###@@#%@#@##@#%@@@%@%%%@%@%@@@\n",
      "19  ---==@@@%@@%@%%@@%@##@#@@#@%@%##@@##%@##%@#%#%@##%@#%#@@#@@##@#%%#@%#@@@%@%%%@%@@\n",
      "20  -==@@%%@@@%%%@%@##@#@##@@###@%##@%#@#@#@#%#@%#%#@#%#@%##%@@#%@#%@%@%#@#%@@%%@%%%%\n",
      "21  =@@@%%@%%%@%@%%@%@##@@#%@#@#%#%#%#@@%##@##%@@##%@##@@@##@@@#@@#@@%#@##%#@%#@@%%@%\n",
      "22  @%@%@%@@%@##@%@#%@%#@@@#%%@@##@@##@@@##@##@@@##@@##@@@##@@@#%#%@@%#@#%@%@##@%%%@%\n",
      "23  @@@@@%@%%@@%%#@@#%@#@@@##%@@##@@##@@@##@##@@@%#@@##@@@##@@####%@@#%%#@@%#@#%#%@@%\n",
      "24  @%@@%%@%%#@%%#@@@#@#%@@%#@@@%#@@##@@@%#@##@@@@#@@##@@@%#@%####@@@###@@@#%@##@@%#@\n",
      "25  %%%@@%@@%@##@#@@@####%@%#@@@@#%@##@@@@#%##@@@@#%###@@@%####@%#@@%###@@@#@@#@@@#%@\n",
      "26  @%@%@##%%@@#@#%@@%#%##%%#@@@@#####@@@@####@@@%#####@@@####@@@#%@####@@%###%@@%#@@\n",
      "27  @@##%#@##@@@###@@%#%@####%@@@#####@@@%####@@@######@@@###@@@@####@##@@####@@@%%@%\n",
      "28  #@#@%#@@#@@@####@%#@@@####@@@######@@%####%@@###%##%@@##%@@@@###%@##@##%##@@@#%##\n",
      "29  @##@@%#@#%@@%#%##%#@@@@###@@%##@###@@######@%##@@###@%##@@@@@###@@####%@%#@@%##%@\n",
      "30  @%#@@@#%##%@%#@%###@@@@@##%@###@@###@##@@##%###@@@#####%@@@@@##%@@###%@@%#@%##@@@\n",
      "31  @@#@@@##%##%%#@@###%@@@@%##@##@@@@#####@@#####@@@@#####@@@@@%##@@%###@@@%####@@@@\n",
      "32  #%%#@@%#%@####%@@###@@@@@#####@@@@#####@@%####@@@@@#*##@@@@@###@@###@@@@%###@@@@@\n",
      "33  @###%@@#@@@####@@%##@@@@@#####@@@@%#*##@@%#*##@@@@@####@@@@@###@@##%@@@@%##%@@@@%\n",
      "34  @@@##%%#@@@@###@@@##%@@@@%#*#%@@@@@####@@@#*#%@@@@@####@@@@########@@@@@###@@@@@#\n",
      "35  @@@@####%@@@@###@@###@@@@@#*#%@@@@@####@@@#*#@@@@@@%###@@@%#*######@@@@@###@@@@##\n",
      "36  %@@@@###%@@@@%##%#####@@@@#*#@@@@@@%###@@@#*#@@@@@@%###@@@##*#####%@@@@@##%@@%###\n",
      "37  #@@@@@###@@@@@########%@@@###@@@@@@@#*#@@@#*#@@@@@@@#*#@@#######*#%@@@@%##@@#####\n",
      "38  ##@@@@%##@@@@@%#####*##%@@#*#@@@@@@@#*#@#%#*#@@@@@@%#*#%#####@%#*#@@@@@##########\n",
      "39  %##@@@@##%@@@@@#*########@#*#%@@@@@@#*#####*#@@@@@@%#*#####%@@@#*#@@@@##*####%@@#\n",
      "40  %###%@@###@@@@@####@%##*###*##@@@@@@#*##*##*#%@@@@@%#*#**#%@@@@#*#@@@%#**##%@@@@#\n",
      "41  ###########@@@@####@@@##**#*##@@@@@@#*******##@@@@@##***##@@@@@###%@%#####@@@@@%#\n",
      "42  #########*#%@@@####@@@@##****#@@@@@%#***##***#@@@@@#***##@@@@@@####%####%@@@@@@##\n",
      "43  ##%@@%###*##%@@####@@@@@##***#%@@@@##**###***#@@@@@#**##@@@@@@@########%@@@@@@@##\n",
      "44  ###@@@@%######@####@@@@@@##**##@@@@#***#@##**##@@@%#**#%@@@@@@@#**#*##%@@@@@@@%##\n",
      "45  ###@@@@@@%##*######@@@@@@@##**#@@@@#**##@@##**#@@@#**##@@@@@@@@#****#%@@@@@@@@###\n",
      "46  %##@@@@@@@@##*##*##@@@@@@@@#**##@@##**#@@@%#**##@%#**#%@@@@@@@@#***##@@@@@@@@%#**\n",
      "47  @###@@@@@@@@##****#@@@@@@@@##**#%@#**##@@@@##**#%#**##@@@@@@@@%#***#@@@@@@@@@##*#\n",
      "48  ####%@@@@@@@@##***#%@@@@@@@@#***###**#@@@@@@#***##**#%@@@@@@@@##**##@@@@@@@@##*##\n",
      "49  #####@@@@@@@@@##**##@@@@@@@@%#**##**##@@@@@@##******#@@@@@@@@@##**#@@@@@@@@#####@\n",
      "50  ###*##@@@@@@@@%#**##@@@@@@@@@#******#%@@@@@@%#******#@@@@@@@@@#**##@@@@@@@#####@@\n",
      "51  @#####%@@@@@@@@##**#@@@@@@@@@##*****#@@@@@@@@#*****##@@@@@@@@##**#@@@@@@@###*#%@@\n",
      "52  @@%####%@@@@@@@@#**##@@@@@@@@%#*****#@@@@@@@@##****#%@@@@@@@@#***#@@@@@%##**##@@@\n",
      "53  @@@%#####@@@@@@@##**#@@@@@@@@@#*****#@@@@@@@@%#****#@@@@@@@@##**##@@@%###***#####\n",
      "54  @@@@%##*##%@@@@@@#**##@@@@@@@@#****##@@@@@@@@@#****#@@@@@@@@#***#%#####******####\n",
      "55  @@@@@##**####@@@@#***##@@@@@@@##***#%@@@@@@@@@#****#@@@@@@@##***####*********####\n",
      "56  #%%#####***########***#%@@@@@@%#***#%@@@@@@@@@#****#@@@@@@##***********##########\n",
      "57  ######*********####****#@@@@@@@#***#@@@@@@@@@@##***#@@@@@%#*********######%%@@@@@\n",
      "58  **#######**************##@@@@@@#***#@@@@@@@@@@%#***#@@@@%#********###%@@@@@@@@@@@\n",
      "59  ###############*********##@@@@@#***#@@@@@@@@@@%#***#@@@%#*******###@@@@@@@@@@@@@@\n",
      "60  #%@@@@@@@@@@@%####********#%@@@#***#@@@@@@@@@@%#***#@@##******###@@@@@@@@@@@@@@@@\n",
      "61  @@@@@@@@@@@@@@@@%###*******##@%#***#%@@@@@@@@@%#***#%##*****###@@@@@@@@@@@@@@@@@@\n",
      "62  @@@@@@@@@@@@@@@@@@@%##*******###***##@@@@@@@@@#*****#******##@@@@@@@@@@@@@@@@@@@@\n",
      "63  @@@@@@@@@@@@@@@@@@@@@%##************#@@@@@@@@@#***********##@@@@@@@@@@@@@@@@@@@@@\n",
      "64  @@@@@@@@@@@@@@@@@@@@@@@##***********#@@@@@@@@@#**********#%@@@@@@@@@@@@@@@@@@@@@@\n",
      "65  @@@@@@@@@@@@@@@@@@@@@@@@@##*********#@@@@@@@@@#*********#@@@@@@@@@@@@@@@@@@@@@@@@\n",
      "66  @@@@@@@@@@@@@@@@@@@@@@@@@@##********#%@@@@@@@@#********#@@@@@@@@@@@@@@@@@@@@@@@@@\n",
      "67  @@@@@@@@@@@@@@@@@@@@@@@@@@@##********#@@@@@@@#********#@@@@@@@@@@@@@@@@@@@@@@@@@@\n",
      "68  @@@@@@@@@@@@@@@@@@@@@@@@@@@@##*******#@@@@@@@#*******#%@@@@@@@@@@@@@@@@@@@@@@@@@@\n",
      "69  @@@@@@@@@@@@@@@@@@@@@@@@@@@@@##******##@@@@@@#******##@@@@@@@@@@@@@@@@@@@@@@@@@@@\n",
      "70  @@@@@@@@@@@@@@@@@@@@@@@@@@@@@@##******#@@@@@#*******#@@@@@@@@@@@@@@@@@@@@@@@@@@@@\n",
      "71  @@@@@@@@@@@@@@@@@@@@@@@@@@@@@@@#******#%@@@@#******#@@@@@@@@@@@@@@@@@@@@@@@@@@@@@\n",
      "72  @@@@@@@@@@@@@@@@@@@@@@@@@@@@@@@@#******#@@@%#*****#%@@@@@@@@@@@@@@@@@@@@@@@@@@@@@\n",
      "73  @@@@@@@@@@@@@@@@@@@@@@@@@@@@@@@@%#*****##@@#******#@@@@@@@@@@@@@@@@@@@@@@@@@@@@@@\n",
      "74  @@@@@@@@@@@@@@@@@@@@@@@@@@@@@@@@@#******#@#******#@@@@@@@@@@@@@@@@@@@@@@@@@@@@@@@\n",
      "75  @@@@@@@@@@@@@@@@@@@@@@@@@@@@@@@@@@#******##******#@@@@@@@@@@@@@@@@@@@@@@@@@@@@@@@\n",
      "76  @@@@@@@@@@@@@@@@@@@@@@@@@@@@@@@@@@%#************#@@@@@@@@@@@@@@@@@@@@@@@@@@@@@@@@\n",
      "77  @@@@@@@@@@@@@@@@@@@@@@@@@@@@@@@@@@@#************#@@@@@@@@@@@@@@@@@@@@@@@@@@@@@@@@\n",
      "78  @@@@@@@@@@@@@@@@@@@@@@@@@@@@@@@@@@@#***********#@@@@@@@@@@@@@@@@@@@@@@@@@@@@@@@@@\n",
      "79  @@@@@@@@@@@@@@@@@@@@@@@@@@@@@@@@@@@@#**********#@@@@@@@@@@@@@@@@@@@@@@@@@@@@@@@@@\n",
      "80  @@@@@@@@@@@@@@@@@@@@@@@@@@@@@@@@@@@@#**********#@@@@@@@@@@@@@@@@@@@@@@@@@@@@@@@@@\n"
     ]
    }
   ],
   "source": [
    "print(df)"
   ]
  },
  {
   "cell_type": "markdown",
   "metadata": {},
   "source": [
    "### 5.3 - Thank You"
   ]
  },
  {
   "cell_type": "code",
   "execution_count": 42,
   "metadata": {},
   "outputs": [],
   "source": [
    "# SQL version banner\n",
    "s = \"\"\"\n",
    "with fonts(c, c1, c2,c3,c4,c5,c6,c7,c8) as (\n",
    "select * from table(multiset{\n",
    "ROW(' ' , '0x00' , '0x00' , '0x00' , '0x00' , '0x00' , '0x00' , '0x00' , '0x00') , \n",
    "ROW('!' , '0x18' , '0x3C' , '0x3C' , '0x18' , '0x18' , '0x00' , '0x18' , '0x00') , \n",
    "ROW('A' , '0x0C' , '0x1E' , '0x33' , '0x33' , '0x3F' , '0x33' , '0x33' , '0x00') , \n",
    "ROW('B' , '0x3F' , '0x66' , '0x66' , '0x3E' , '0x66' , '0x66' , '0x3F' , '0x00') , \n",
    "ROW('C' , '0x3C' , '0x66' , '0x03' , '0x03' , '0x03' , '0x66' , '0x3C' , '0x00') , \n",
    "ROW('D' , '0x1F' , '0x36' , '0x66' , '0x66' , '0x66' , '0x36' , '0x1F' , '0x00') , \n",
    "ROW('E' , '0x7F' , '0x46' , '0x16' , '0x1E' , '0x16' , '0x46' , '0x7F' , '0x00') , \n",
    "ROW('F' , '0x7F' , '0x46' , '0x16' , '0x1E' , '0x16' , '0x06' , '0x0F' , '0x00') , \n",
    "ROW('G' , '0x3C' , '0x66' , '0x03' , '0x03' , '0x73' , '0x66' , '0x7C' , '0x00') , \n",
    "ROW('H' , '0x33' , '0x33' , '0x33' , '0x3F' , '0x33' , '0x33' , '0x33' , '0x00') , \n",
    "ROW('I' , '0x1E' , '0x0C' , '0x0C' , '0x0C' , '0x0C' , '0x0C' , '0x1E' , '0x00') , \n",
    "ROW('J' , '0x78' , '0x30' , '0x30' , '0x30' , '0x33' , '0x33' , '0x1E' , '0x00') , \n",
    "ROW('K' , '0x67' , '0x66' , '0x36' , '0x1E' , '0x36' , '0x66' , '0x67' , '0x00') , \n",
    "ROW('L' , '0x0F' , '0x06' , '0x06' , '0x06' , '0x46' , '0x66' , '0x7F' , '0x00') , \n",
    "ROW('M' , '0x63' , '0x77' , '0x7F' , '0x7F' , '0x6B' , '0x63' , '0x63' , '0x00') , \n",
    "ROW('N' , '0x63' , '0x67' , '0x6F' , '0x7B' , '0x73' , '0x63' , '0x63' , '0x00') , \n",
    "ROW('O' , '0x1C' , '0x36' , '0x63' , '0x63' , '0x63' , '0x36' , '0x1C' , '0x00') , \n",
    "ROW('P' , '0x3F' , '0x66' , '0x66' , '0x3E' , '0x06' , '0x06' , '0x0F' , '0x00') , \n",
    "ROW('Q' , '0x1E' , '0x33' , '0x33' , '0x33' , '0x3B' , '0x1E' , '0x38' , '0x00') , \n",
    "ROW('R' , '0x3F' , '0x66' , '0x66' , '0x3E' , '0x36' , '0x66' , '0x67' , '0x00') , \n",
    "ROW('S' , '0x1E' , '0x33' , '0x07' , '0x0E' , '0x38' , '0x33' , '0x1E' , '0x00') , \n",
    "ROW('T' , '0x3F' , '0x2D' , '0x0C' , '0x0C' , '0x0C' , '0x0C' , '0x1E' , '0x00') , \n",
    "ROW('U' , '0x33' , '0x33' , '0x33' , '0x33' , '0x33' , '0x33' , '0x3F' , '0x00') , \n",
    "ROW('V' , '0x33' , '0x33' , '0x33' , '0x33' , '0x33' , '0x1E' , '0x0C' , '0x00') , \n",
    "ROW('W' , '0x63' , '0x63' , '0x63' , '0x6B' , '0x7F' , '0x77' , '0x63' , '0x00') , \n",
    "ROW('X' , '0x63' , '0x63' , '0x36' , '0x1C' , '0x1C' , '0x36' , '0x63' , '0x00') , \n",
    "ROW('Y' , '0x33' , '0x33' , '0x33' , '0x1E' , '0x0C' , '0x0C' , '0x1E' , '0x00') , \n",
    "ROW('Z' , '0x7F' , '0x63' , '0x31' , '0x18' , '0x4C' , '0x66' , '0x7F' , '0x00') , \n",
    "ROW('~' , '0x6E' , '0x3B' , '0x00' , '0x00' , '0x00' , '0x00' , '0x00' , '0x00')})),\n",
    "text(str) as (select 'THANK YOU'),\n",
    "xword(str, o, c, c1, c2,c3,c4,c5,c6,c7,c8) as (\n",
    "    select str, 1, f.c, f.c1, f.c2,f.c3,f.c4,f.c5,f.c6,f.c7,f.c8 from text, fonts f where c = substr(str, 1, 1)\n",
    "    union all\n",
    "    select str, o+1, f.c, f.c1, f.c2,f.c3,f.c4,f.c5,f.c6,f.c7,f.c8 from fonts f, xword where \n",
    "        f.c = substr(str, o+1, 1) and o < length(str)),\n",
    "x(n, p) as (    select 1, 128 union all select n+1, p/2 from x where n < 8),\n",
    "show(s1, s2, s3, s4, s5, s6, s7, s8)\n",
    " as (select  sum ((case when bitand(to_number(c1)::int, p) > 0 then '#' else ' ' end)::lvarchar)::char(8),\n",
    "        sum ((case when bitand(to_number(c2)::int, p) > 0 then '#' else ' ' end)::lvarchar)::char(8),\n",
    "        sum ((case when bitand(to_number(c3)::int, p) > 0 then '#' else ' ' end)::lvarchar)::char(8),\n",
    "        sum ((case when bitand(to_number(c4)::int, p) > 0 then '#' else ' ' end)::lvarchar)::char(8),\n",
    "        sum ((case when bitand(to_number(c5)::int, p) > 0 then '#' else ' ' end)::lvarchar)::char(8),\n",
    "        sum ((case when bitand(to_number(c6)::int, p) > 0 then '#' else ' ' end)::lvarchar)::char(8),\n",
    "        sum ((case when bitand(to_number(c7)::int, p) > 0 then '#' else ' ' end)::lvarchar)::char(8),\n",
    "        sum ((case when bitand(to_number(c8)::int, p) > 0 then '#' else ' ' end)::lvarchar)::char(8)\n",
    "    from x cross join xword group by xword.o order by xword.o desc),\n",
    "y(y) as (select  multiset{\n",
    "        sum(s1::lvarchar), sum(s2::lvarchar), sum(s3::lvarchar), sum(s4::lvarchar),\n",
    "        sum(s5::lvarchar), sum(s6::lvarchar), sum(s7::lvarchar), sum(s8::lvarchar)}\n",
    "        from show)\n",
    "select z::char(120) from y, lateral(table(y.y) as z(z));\n",
    "\"\"\"\n",
    "cur.execute(s)\n",
    "t = cur.fetchall()"
   ]
  },
  {
   "cell_type": "code",
   "execution_count": 43,
   "metadata": {},
   "outputs": [],
   "source": [
    "columns = ['']\n",
    "df = pd.DataFrame(data=t, columns=columns)"
   ]
  },
  {
   "cell_type": "code",
   "execution_count": 44,
   "metadata": {},
   "outputs": [
    {
     "name": "stdout",
     "output_type": "stream",
     "text": [
      "                                                                                                                           \n",
      "0  ######  ##  ##    ##    ##   ## ###  ##         ##  ##    ###   ##  ##                                                  \n",
      "1  # ## #  ##  ##   ####   ###  ##  ##  ##         ##  ##   ## ##  ##  ##                                                  \n",
      "2    ##    ##  ##  ##  ##  #### ##  ## ##          ##  ##  ##   ## ##  ##                                                  \n",
      "3    ##    ######  ##  ##  ## ####  ####            ####   ##   ## ##  ##                                                  \n",
      "4    ##    ##  ##  ######  ##  ###  ## ##            ##    ##   ## ##  ##                                                  \n",
      "5    ##    ##  ##  ##  ##  ##   ##  ##  ##           ##     ## ##  ##  ##                                                  \n",
      "6   ####   ##  ##  ##  ##  ##   ## ###  ##          ####     ###   ######                                                  \n",
      "7                                                                                                                          \n"
     ]
    }
   ],
   "source": [
    "print(df)"
   ]
  },
  {
   "cell_type": "code",
   "execution_count": 45,
   "metadata": {},
   "outputs": [
    {
     "data": {
      "text/plain": [
       "True"
      ]
     },
     "execution_count": 45,
     "metadata": {},
     "output_type": "execute_result"
    }
   ],
   "source": [
    "cur.close()"
   ]
  },
  {
   "cell_type": "code",
   "execution_count": 46,
   "metadata": {},
   "outputs": [
    {
     "data": {
      "text/plain": [
       "True"
      ]
     },
     "execution_count": 46,
     "metadata": {},
     "output_type": "execute_result"
    }
   ],
   "source": [
    "conn.close()"
   ]
  },
  {
   "cell_type": "code",
   "execution_count": null,
   "metadata": {},
   "outputs": [],
   "source": []
  }
 ],
 "metadata": {
  "kernelspec": {
   "display_name": "Python 3",
   "language": "python",
   "name": "python3"
  },
  "language_info": {
   "codemirror_mode": {
    "name": "ipython",
    "version": 3
   },
   "file_extension": ".py",
   "mimetype": "text/x-python",
   "name": "python",
   "nbconvert_exporter": "python",
   "pygments_lexer": "ipython3",
   "version": "3.6.8"
  }
 },
 "nbformat": 4,
 "nbformat_minor": 4
}
